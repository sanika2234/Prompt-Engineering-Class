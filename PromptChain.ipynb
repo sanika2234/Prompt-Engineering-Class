{
  "nbformat": 4,
  "nbformat_minor": 0,
  "metadata": {
    "colab": {
      "provenance": []
    },
    "kernelspec": {
      "name": "python3",
      "display_name": "Python 3"
    },
    "language_info": {
      "name": "python"
    }
  },
  "cells": [
    {
      "cell_type": "code",
      "execution_count": 1,
      "metadata": {
        "colab": {
          "base_uri": "https://localhost:8080/"
        },
        "id": "shNMsE4ZBTAI",
        "outputId": "84d41d05-8ec7-4d3e-84c6-30a603eb8443"
      },
      "outputs": [
        {
          "output_type": "stream",
          "name": "stdout",
          "text": [
            "Collecting langchain\n",
            "  Downloading langchain-0.2.14-py3-none-any.whl.metadata (7.1 kB)\n",
            "Collecting groq\n",
            "  Downloading groq-0.9.0-py3-none-any.whl.metadata (13 kB)\n",
            "Requirement already satisfied: PyYAML>=5.3 in /usr/local/lib/python3.10/dist-packages (from langchain) (6.0.2)\n",
            "Requirement already satisfied: SQLAlchemy<3,>=1.4 in /usr/local/lib/python3.10/dist-packages (from langchain) (2.0.32)\n",
            "Requirement already satisfied: aiohttp<4.0.0,>=3.8.3 in /usr/local/lib/python3.10/dist-packages (from langchain) (3.10.5)\n",
            "Requirement already satisfied: async-timeout<5.0.0,>=4.0.0 in /usr/local/lib/python3.10/dist-packages (from langchain) (4.0.3)\n",
            "Collecting langchain-core<0.3.0,>=0.2.32 (from langchain)\n",
            "  Downloading langchain_core-0.2.35-py3-none-any.whl.metadata (6.2 kB)\n",
            "Collecting langchain-text-splitters<0.3.0,>=0.2.0 (from langchain)\n",
            "  Downloading langchain_text_splitters-0.2.2-py3-none-any.whl.metadata (2.1 kB)\n",
            "Collecting langsmith<0.2.0,>=0.1.17 (from langchain)\n",
            "  Downloading langsmith-0.1.104-py3-none-any.whl.metadata (13 kB)\n",
            "Requirement already satisfied: numpy<2,>=1 in /usr/local/lib/python3.10/dist-packages (from langchain) (1.26.4)\n",
            "Requirement already satisfied: pydantic<3,>=1 in /usr/local/lib/python3.10/dist-packages (from langchain) (2.8.2)\n",
            "Requirement already satisfied: requests<3,>=2 in /usr/local/lib/python3.10/dist-packages (from langchain) (2.32.3)\n",
            "Collecting tenacity!=8.4.0,<9.0.0,>=8.1.0 (from langchain)\n",
            "  Downloading tenacity-8.5.0-py3-none-any.whl.metadata (1.2 kB)\n",
            "Requirement already satisfied: anyio<5,>=3.5.0 in /usr/local/lib/python3.10/dist-packages (from groq) (3.7.1)\n",
            "Requirement already satisfied: distro<2,>=1.7.0 in /usr/lib/python3/dist-packages (from groq) (1.7.0)\n",
            "Collecting httpx<1,>=0.23.0 (from groq)\n",
            "  Downloading httpx-0.27.0-py3-none-any.whl.metadata (7.2 kB)\n",
            "Requirement already satisfied: sniffio in /usr/local/lib/python3.10/dist-packages (from groq) (1.3.1)\n",
            "Requirement already satisfied: typing-extensions<5,>=4.7 in /usr/local/lib/python3.10/dist-packages (from groq) (4.12.2)\n",
            "Requirement already satisfied: aiohappyeyeballs>=2.3.0 in /usr/local/lib/python3.10/dist-packages (from aiohttp<4.0.0,>=3.8.3->langchain) (2.4.0)\n",
            "Requirement already satisfied: aiosignal>=1.1.2 in /usr/local/lib/python3.10/dist-packages (from aiohttp<4.0.0,>=3.8.3->langchain) (1.3.1)\n",
            "Requirement already satisfied: attrs>=17.3.0 in /usr/local/lib/python3.10/dist-packages (from aiohttp<4.0.0,>=3.8.3->langchain) (24.2.0)\n",
            "Requirement already satisfied: frozenlist>=1.1.1 in /usr/local/lib/python3.10/dist-packages (from aiohttp<4.0.0,>=3.8.3->langchain) (1.4.1)\n",
            "Requirement already satisfied: multidict<7.0,>=4.5 in /usr/local/lib/python3.10/dist-packages (from aiohttp<4.0.0,>=3.8.3->langchain) (6.0.5)\n",
            "Requirement already satisfied: yarl<2.0,>=1.0 in /usr/local/lib/python3.10/dist-packages (from aiohttp<4.0.0,>=3.8.3->langchain) (1.9.4)\n",
            "Requirement already satisfied: idna>=2.8 in /usr/local/lib/python3.10/dist-packages (from anyio<5,>=3.5.0->groq) (3.7)\n",
            "Requirement already satisfied: exceptiongroup in /usr/local/lib/python3.10/dist-packages (from anyio<5,>=3.5.0->groq) (1.2.2)\n",
            "Requirement already satisfied: certifi in /usr/local/lib/python3.10/dist-packages (from httpx<1,>=0.23.0->groq) (2024.7.4)\n",
            "Collecting httpcore==1.* (from httpx<1,>=0.23.0->groq)\n",
            "  Downloading httpcore-1.0.5-py3-none-any.whl.metadata (20 kB)\n",
            "Collecting h11<0.15,>=0.13 (from httpcore==1.*->httpx<1,>=0.23.0->groq)\n",
            "  Downloading h11-0.14.0-py3-none-any.whl.metadata (8.2 kB)\n",
            "Collecting jsonpatch<2.0,>=1.33 (from langchain-core<0.3.0,>=0.2.32->langchain)\n",
            "  Downloading jsonpatch-1.33-py2.py3-none-any.whl.metadata (3.0 kB)\n",
            "Requirement already satisfied: packaging<25,>=23.2 in /usr/local/lib/python3.10/dist-packages (from langchain-core<0.3.0,>=0.2.32->langchain) (24.1)\n",
            "Collecting orjson<4.0.0,>=3.9.14 (from langsmith<0.2.0,>=0.1.17->langchain)\n",
            "  Downloading orjson-3.10.7-cp310-cp310-manylinux_2_17_x86_64.manylinux2014_x86_64.whl.metadata (50 kB)\n",
            "\u001b[2K     \u001b[90m━━━━━━━━━━━━━━━━━━━━━━━━━━━━━━━━━━━━━━━━\u001b[0m \u001b[32m50.4/50.4 kB\u001b[0m \u001b[31m1.6 MB/s\u001b[0m eta \u001b[36m0:00:00\u001b[0m\n",
            "\u001b[?25hRequirement already satisfied: annotated-types>=0.4.0 in /usr/local/lib/python3.10/dist-packages (from pydantic<3,>=1->langchain) (0.7.0)\n",
            "Requirement already satisfied: pydantic-core==2.20.1 in /usr/local/lib/python3.10/dist-packages (from pydantic<3,>=1->langchain) (2.20.1)\n",
            "Requirement already satisfied: charset-normalizer<4,>=2 in /usr/local/lib/python3.10/dist-packages (from requests<3,>=2->langchain) (3.3.2)\n",
            "Requirement already satisfied: urllib3<3,>=1.21.1 in /usr/local/lib/python3.10/dist-packages (from requests<3,>=2->langchain) (2.0.7)\n",
            "Requirement already satisfied: greenlet!=0.4.17 in /usr/local/lib/python3.10/dist-packages (from SQLAlchemy<3,>=1.4->langchain) (3.0.3)\n",
            "Collecting jsonpointer>=1.9 (from jsonpatch<2.0,>=1.33->langchain-core<0.3.0,>=0.2.32->langchain)\n",
            "  Downloading jsonpointer-3.0.0-py2.py3-none-any.whl.metadata (2.3 kB)\n",
            "Downloading langchain-0.2.14-py3-none-any.whl (997 kB)\n",
            "\u001b[2K   \u001b[90m━━━━━━━━━━━━━━━━━━━━━━━━━━━━━━━━━━━━━━━━\u001b[0m \u001b[32m997.8/997.8 kB\u001b[0m \u001b[31m32.1 MB/s\u001b[0m eta \u001b[36m0:00:00\u001b[0m\n",
            "\u001b[?25hDownloading groq-0.9.0-py3-none-any.whl (103 kB)\n",
            "\u001b[2K   \u001b[90m━━━━━━━━━━━━━━━━━━━━━━━━━━━━━━━━━━━━━━━━\u001b[0m \u001b[32m103.5/103.5 kB\u001b[0m \u001b[31m6.9 MB/s\u001b[0m eta \u001b[36m0:00:00\u001b[0m\n",
            "\u001b[?25hDownloading httpx-0.27.0-py3-none-any.whl (75 kB)\n",
            "\u001b[2K   \u001b[90m━━━━━━━━━━━━━━━━━━━━━━━━━━━━━━━━━━━━━━━━\u001b[0m \u001b[32m75.6/75.6 kB\u001b[0m \u001b[31m4.8 MB/s\u001b[0m eta \u001b[36m0:00:00\u001b[0m\n",
            "\u001b[?25hDownloading httpcore-1.0.5-py3-none-any.whl (77 kB)\n",
            "\u001b[2K   \u001b[90m━━━━━━━━━━━━━━━━━━━━━━━━━━━━━━━━━━━━━━━━\u001b[0m \u001b[32m77.9/77.9 kB\u001b[0m \u001b[31m3.9 MB/s\u001b[0m eta \u001b[36m0:00:00\u001b[0m\n",
            "\u001b[?25hDownloading langchain_core-0.2.35-py3-none-any.whl (394 kB)\n",
            "\u001b[2K   \u001b[90m━━━━━━━━━━━━━━━━━━━━━━━━━━━━━━━━━━━━━━━━\u001b[0m \u001b[32m394.9/394.9 kB\u001b[0m \u001b[31m21.0 MB/s\u001b[0m eta \u001b[36m0:00:00\u001b[0m\n",
            "\u001b[?25hDownloading langchain_text_splitters-0.2.2-py3-none-any.whl (25 kB)\n",
            "Downloading langsmith-0.1.104-py3-none-any.whl (149 kB)\n",
            "\u001b[2K   \u001b[90m━━━━━━━━━━━━━━━━━━━━━━━━━━━━━━━━━━━━━━━━\u001b[0m \u001b[32m149.1/149.1 kB\u001b[0m \u001b[31m9.4 MB/s\u001b[0m eta \u001b[36m0:00:00\u001b[0m\n",
            "\u001b[?25hDownloading tenacity-8.5.0-py3-none-any.whl (28 kB)\n",
            "Downloading jsonpatch-1.33-py2.py3-none-any.whl (12 kB)\n",
            "Downloading orjson-3.10.7-cp310-cp310-manylinux_2_17_x86_64.manylinux2014_x86_64.whl (141 kB)\n",
            "\u001b[2K   \u001b[90m━━━━━━━━━━━━━━━━━━━━━━━━━━━━━━━━━━━━━━━━\u001b[0m \u001b[32m141.9/141.9 kB\u001b[0m \u001b[31m2.8 MB/s\u001b[0m eta \u001b[36m0:00:00\u001b[0m\n",
            "\u001b[?25hDownloading h11-0.14.0-py3-none-any.whl (58 kB)\n",
            "\u001b[2K   \u001b[90m━━━━━━━━━━━━━━━━━━━━━━━━━━━━━━━━━━━━━━━━\u001b[0m \u001b[32m58.3/58.3 kB\u001b[0m \u001b[31m2.9 MB/s\u001b[0m eta \u001b[36m0:00:00\u001b[0m\n",
            "\u001b[?25hDownloading jsonpointer-3.0.0-py2.py3-none-any.whl (7.6 kB)\n",
            "Installing collected packages: tenacity, orjson, jsonpointer, h11, jsonpatch, httpcore, httpx, langsmith, groq, langchain-core, langchain-text-splitters, langchain\n",
            "  Attempting uninstall: tenacity\n",
            "    Found existing installation: tenacity 9.0.0\n",
            "    Uninstalling tenacity-9.0.0:\n",
            "      Successfully uninstalled tenacity-9.0.0\n",
            "Successfully installed groq-0.9.0 h11-0.14.0 httpcore-1.0.5 httpx-0.27.0 jsonpatch-1.33 jsonpointer-3.0.0 langchain-0.2.14 langchain-core-0.2.35 langchain-text-splitters-0.2.2 langsmith-0.1.104 orjson-3.10.7 tenacity-8.5.0\n",
            "Collecting langchain-groq\n",
            "  Downloading langchain_groq-0.1.9-py3-none-any.whl.metadata (2.9 kB)\n",
            "Requirement already satisfied: groq in /usr/local/lib/python3.10/dist-packages (0.9.0)\n",
            "Requirement already satisfied: langchain-core<0.3.0,>=0.2.26 in /usr/local/lib/python3.10/dist-packages (from langchain-groq) (0.2.35)\n",
            "Requirement already satisfied: anyio<5,>=3.5.0 in /usr/local/lib/python3.10/dist-packages (from groq) (3.7.1)\n",
            "Requirement already satisfied: distro<2,>=1.7.0 in /usr/lib/python3/dist-packages (from groq) (1.7.0)\n",
            "Requirement already satisfied: httpx<1,>=0.23.0 in /usr/local/lib/python3.10/dist-packages (from groq) (0.27.0)\n",
            "Requirement already satisfied: pydantic<3,>=1.9.0 in /usr/local/lib/python3.10/dist-packages (from groq) (2.8.2)\n",
            "Requirement already satisfied: sniffio in /usr/local/lib/python3.10/dist-packages (from groq) (1.3.1)\n",
            "Requirement already satisfied: typing-extensions<5,>=4.7 in /usr/local/lib/python3.10/dist-packages (from groq) (4.12.2)\n",
            "Requirement already satisfied: idna>=2.8 in /usr/local/lib/python3.10/dist-packages (from anyio<5,>=3.5.0->groq) (3.7)\n",
            "Requirement already satisfied: exceptiongroup in /usr/local/lib/python3.10/dist-packages (from anyio<5,>=3.5.0->groq) (1.2.2)\n",
            "Requirement already satisfied: certifi in /usr/local/lib/python3.10/dist-packages (from httpx<1,>=0.23.0->groq) (2024.7.4)\n",
            "Requirement already satisfied: httpcore==1.* in /usr/local/lib/python3.10/dist-packages (from httpx<1,>=0.23.0->groq) (1.0.5)\n",
            "Requirement already satisfied: h11<0.15,>=0.13 in /usr/local/lib/python3.10/dist-packages (from httpcore==1.*->httpx<1,>=0.23.0->groq) (0.14.0)\n",
            "Requirement already satisfied: PyYAML>=5.3 in /usr/local/lib/python3.10/dist-packages (from langchain-core<0.3.0,>=0.2.26->langchain-groq) (6.0.2)\n",
            "Requirement already satisfied: jsonpatch<2.0,>=1.33 in /usr/local/lib/python3.10/dist-packages (from langchain-core<0.3.0,>=0.2.26->langchain-groq) (1.33)\n",
            "Requirement already satisfied: langsmith<0.2.0,>=0.1.75 in /usr/local/lib/python3.10/dist-packages (from langchain-core<0.3.0,>=0.2.26->langchain-groq) (0.1.104)\n",
            "Requirement already satisfied: packaging<25,>=23.2 in /usr/local/lib/python3.10/dist-packages (from langchain-core<0.3.0,>=0.2.26->langchain-groq) (24.1)\n",
            "Requirement already satisfied: tenacity!=8.4.0,<9.0.0,>=8.1.0 in /usr/local/lib/python3.10/dist-packages (from langchain-core<0.3.0,>=0.2.26->langchain-groq) (8.5.0)\n",
            "Requirement already satisfied: annotated-types>=0.4.0 in /usr/local/lib/python3.10/dist-packages (from pydantic<3,>=1.9.0->groq) (0.7.0)\n",
            "Requirement already satisfied: pydantic-core==2.20.1 in /usr/local/lib/python3.10/dist-packages (from pydantic<3,>=1.9.0->groq) (2.20.1)\n",
            "Requirement already satisfied: jsonpointer>=1.9 in /usr/local/lib/python3.10/dist-packages (from jsonpatch<2.0,>=1.33->langchain-core<0.3.0,>=0.2.26->langchain-groq) (3.0.0)\n",
            "Requirement already satisfied: orjson<4.0.0,>=3.9.14 in /usr/local/lib/python3.10/dist-packages (from langsmith<0.2.0,>=0.1.75->langchain-core<0.3.0,>=0.2.26->langchain-groq) (3.10.7)\n",
            "Requirement already satisfied: requests<3,>=2 in /usr/local/lib/python3.10/dist-packages (from langsmith<0.2.0,>=0.1.75->langchain-core<0.3.0,>=0.2.26->langchain-groq) (2.32.3)\n",
            "Requirement already satisfied: charset-normalizer<4,>=2 in /usr/local/lib/python3.10/dist-packages (from requests<3,>=2->langsmith<0.2.0,>=0.1.75->langchain-core<0.3.0,>=0.2.26->langchain-groq) (3.3.2)\n",
            "Requirement already satisfied: urllib3<3,>=1.21.1 in /usr/local/lib/python3.10/dist-packages (from requests<3,>=2->langsmith<0.2.0,>=0.1.75->langchain-core<0.3.0,>=0.2.26->langchain-groq) (2.0.7)\n",
            "Downloading langchain_groq-0.1.9-py3-none-any.whl (14 kB)\n",
            "Installing collected packages: langchain-groq\n",
            "Successfully installed langchain-groq-0.1.9\n"
          ]
        }
      ],
      "source": [
        "\n",
        "!pip install langchain groq\n",
        "!pip install langchain-groq groq"
      ]
    },
    {
      "cell_type": "code",
      "source": [
        "\n",
        "from langchain_groq import ChatGroq\n",
        "from langchain.chains import LLMChain, SimpleSequentialChain\n",
        "from langchain_core.messages import AIMessage, HumanMessage, SystemMessage\n",
        "from langchain.prompts import Prompt\n",
        "from langchain import PromptTemplate, LLMChain\n",
        "import os\n",
        "\n",
        "# Set your Groq API key\n",
        "os.environ[\"GROQ_API_KEY\"] = \"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\"\n",
        "\n",
        "# Initialize the Groq LLM\n",
        "llm = ChatGroq(model_name=\"mixtral-8x7b-32768\")"
      ],
      "metadata": {
        "id": "7nDT702zB60f"
      },
      "execution_count": 2,
      "outputs": []
    },
    {
      "cell_type": "code",
      "source": [
        "\n",
        "#Setup HumanMessage, SystemMessage for simple prompt.\n",
        "example = \"\"\"\n",
        "Question: A chef has 40 cups of flour. If each bread recipe requires 3 cups of flour and each cake recipe requires 5 cups of flour, how many breads and cakes can the chef make if they want to use all the flour and make an equal number of each?\n",
        "Answer: 5.\n",
        "\n",
        "Question: A zoo has 30 animals. If they adopt out 10 animals and then receive 5 more animals as new arrivals, how many animals does the zoo have now?\n",
        "Answer:\n",
        "\"\"\"\n",
        "human_message = HumanMessage(content=example)\n",
        "system_message = SystemMessage(content=\"You are helpful assistant.\")\n",
        "\n",
        "\n",
        "new_prompt = (system_message + human_message)\n",
        "\n",
        "print (f\"Prompt: {new_prompt}\\n\")\n",
        "\n",
        "chain = LLMChain(llm=llm, prompt=new_prompt)\n",
        "reponse = chain.run({})\n",
        "print(f\"Response: {reponse}\\n\")\n",
        "\n"
      ],
      "metadata": {
        "colab": {
          "base_uri": "https://localhost:8080/"
        },
        "id": "a3NXbRN_CQwF",
        "outputId": "51741ea1-9554-4f8d-a51e-8b57c59c33bb"
      },
      "execution_count": 18,
      "outputs": [
        {
          "output_type": "stream",
          "name": "stdout",
          "text": [
            "Prompt: input_variables=[] messages=[SystemMessage(content='You are helpful assistant.'), HumanMessage(content='\\nQuestion: A chef has 40 cups of flour. If each bread recipe requires 3 cups of flour and each cake recipe requires 5 cups of flour, how many breads and cakes can the chef make if they want to use all the flour and make an equal number of each?\\nAnswer: 5.\\n\\nQuestion: A zoo has 30 animals. If they adopt out 10 animals and then receive 5 more animals as new arrivals, how many animals does the zoo have now?\\nAnswer:\\n')]\n",
            "\n",
            "Response: The zoo now has 35 animals. The zoo started with 30 animals, then adopted out 10, leaving them with 20 animals. After that, 5 new animals arrived, so the total number of animals at the zoo is now 20 + 5 = 35 animals.\n",
            "\n"
          ]
        }
      ]
    },
    {
      "cell_type": "code",
      "source": [
        "# System message setup\n",
        "system_message = SystemMessage(content=\"You are a creative assistant for generating short stories.\")\n",
        "\n",
        "# Prompt 1: Get genre and main character\n",
        "initial_prompt = \"Provide a genre and a main character for a short story.\"\n",
        "\n",
        "# Create the chain and get the genre and character\n",
        "chain1 = LLMChain(llm=llm, prompt=system_message + HumanMessage(content=initial_prompt))\n",
        "response1 = chain1.run({})\n",
        "\n",
        "# Example response\n",
        "response1 = \"Science Fiction, The Last Colony\"\n",
        "\n",
        "# Extract genre and character from the response\n",
        "try:\n",
        "    genre, character = response1.split(\", \")\n",
        "except ValueError as e:\n",
        "    raise ValueError(f\"Error parsing the response: {response1}. Exception: {e}\")\n",
        "\n",
        "# Print the extracted values to verify\n",
        "print(f\"Genre: {genre}\\nCharacter: {character}\")\n",
        "\n",
        "# Prompt 2: Develop the plot based on the genre and character\n",
        "plot_prompt = f\"Based on the genre '{genre}' and the main character '{character}', write a brief plot outline for a short story.\"\n",
        "\n",
        "# Create the chain and get the plot\n",
        "chain2 = LLMChain(llm=llm, prompt=system_message + HumanMessage(content=plot_prompt))\n",
        "plot = chain2.run({})\n",
        "\n",
        "# Prompt 3: Write the conclusion based on the plot\n",
        "conclusion_prompt = f\"Based on the plot outline provided, write the conclusion for the short story.\"\n",
        "\n",
        "# Create the chain and get the conclusion\n",
        "chain3 = LLMChain(llm=llm, prompt=system_message + HumanMessage(content=conclusion_prompt))\n",
        "conclusion = chain3.run({})\n",
        "\n",
        "# Combine all parts to form the final story\n",
        "final_story = f\"Genre: {genre}\\nMain Character: {character}\\nPlot: {plot}\\nConclusion: {conclusion}\"\n",
        "print(final_story)\n"
      ],
      "metadata": {
        "colab": {
          "base_uri": "https://localhost:8080/"
        },
        "id": "RIpi14mWCWso",
        "outputId": "58f27b59-e86e-4513-9556-f51e08fe5494"
      },
      "execution_count": 19,
      "outputs": [
        {
          "output_type": "stream",
          "name": "stdout",
          "text": [
            "Genre: Science Fiction\n",
            "Character: The Last Colony\n",
            "Genre: Science Fiction\n",
            "Main Character: The Last Colony\n",
            "Plot: Title: \"The Last Light of Hope\"\n",
            "\n",
            "In the distant future, Earth has become uninhabitable, and the remnants of humanity are scattered across the cosmos. Our story revolves around the last colony, a resilient group of survivors on a dying planet named Solara.\n",
            "\n",
            "The colony is led by a strong-willed leader, Captain Lyra, who has dedicated her life to finding a new home for her people. However, their situation is dire; resources are dwindling, and the planet's sun, Solara's namesake, is on the brink of supernova.\n",
            "\n",
            "A glimmer of hope appears when an old research station, abandoned decades ago, reveals blueprints for a legendary spaceship, the \"Ark,\" capable of interstellar travel. The only catch is that it requires a rare element, Lumina, found only in the core of Solara.\n",
            "\n",
            "Captain Lyra, along with a brave crew, embarks on a dangerous mission to mine the Lumina. They face treacherous journeys, hostile alien creatures, and the constant ticking clock of Solara's impending explosion. \n",
            "\n",
            "As they delve deeper into the planet's core, they discover a hidden truth about the Lumina, the Ark, and the fate of humanity. The last colony's survival hinges on their ability to adapt, overcome, and redefine what it means to be human in the face of extinction.\n",
            "\n",
            "\"The Last Light of Hope\" is a tale of resilience, sacrifice, and the unyielding human spirit, set against the backdrop of a dying world and the vast, unknown cosmos.\n",
            "Conclusion: Plot Outline: The main character, Alex, is a talented violinist who has lost their ability to play due to an accident. After years of trying different treatments, they discover a mysterious music school that promises to restore their skills.\n",
            "\n",
            "Conclusion:\n",
            "\n",
            "As Alex stepped onto the stage of the grand auditorium, their heart pounded in their chest. It had been so long since they last played in front of an audience. The warm, expectant gazes from the crowd filled him with a mix of anxiety and excitement.\n",
            "\n",
            "Months of rigorous training at the mysterious music school had led to this moment. The teachers, with their unconventional methods and unyielding dedication, had helped Alex rediscover their passion for the violin. The accident that had once stolen their ability to play now felt like a distant memory.\n",
            "\n",
            "Alex raised the violin to their shoulder, feeling the familiar weight of the instrument in their hands. They closed their eyes, took a deep breath, and began to play. The first notes were shaky, but as they continued, a wave of confidence washed over them. Their fingers danced along the strings, weaving a beautiful melody that echoed through the concert hall.\n",
            "\n",
            "A hush fell over the audience as they listened, captivated by the performance. Tears welled up in Alex's eyes as they realized that they had not only regained their technical skills but also reconnected with the emotional depth that made their music so powerful.\n",
            "\n",
            "When the final note faded away, the audience erupted into applause. Alex stood there, their heart swelling with gratitude and joy. They had faced their greatest fear and emerged triumphant. The violin was no longer a source of pain but a symbol of resilience and hope.\n",
            "\n",
            "From that day forward, Alex continued to share their gift of music with the world, forever grateful for the mysterious music school that had given them a second chance.\n"
          ]
        }
      ]
    },
    {
      "cell_type": "code",
      "source": [],
      "metadata": {
        "colab": {
          "base_uri": "https://localhost:8080/"
        },
        "id": "EgsyB_L_Clue",
        "outputId": "e124176d-47a9-4b37-a5c4-83e651ec9353"
      },
      "execution_count": 5,
      "outputs": [
        {
          "output_type": "stream",
          "name": "stdout",
          "text": [
            "\n",
            "\n",
            "\u001b[1m> Entering new SimpleSequentialChain chain...\u001b[0m\n",
            "\u001b[36;1m\u001b[1;3mDesigning a sustainable urban transportation system for a city of 1 million people is a complex task that requires careful consideration of various factors. The goal is to create a system that minimizes environmental impact, is cost-effective, and provides accessible transportation options for all residents. \n",
            "\n",
            "To achieve these objectives, the system should prioritize the use of clean energy sources, such as electricity or hydrogen, to power vehicles and infrastructure. This would significantly reduce greenhouse gas emissions and other pollutants associated with traditional fossil fuel-based transportation. \n",
            "\n",
            "Additionally, the system should be designed to optimize efficiency and reduce costs. This can be achieved through the use of smart traffic management systems, dedicated lanes for high-occupancy vehicles, and the integration of different modes of transportation (e.g., buses, trains, bikes, and pedestrian paths). \n",
            "\n",
            "Finally, the system must be accessible to all residents, including those with limited mobility or financial resources. This can be accomplished through the provision of affordable public transportation options, accessible pedestrian and cycling infrastructure, and targeted subsidies for low-income individuals. By prioritizing these factors, it is possible to design a sustainable urban transportation system that meets the needs of a growing city while minimizing its environmental impact and promoting social equity.\u001b[0m\n",
            "\u001b[33;1m\u001b[1;3m1. Incorporating clean energy sources and promoting electric vehicles (EVs): To design a sustainable urban transportation system, it is crucial to prioritize the use of clean energy sources, such as electricity or hydrogen, to power vehicles and infrastructure. This can be achieved by investing in renewable energy sources like wind and solar power to charge EVs and hydrogen fueling stations. Additionally, implementing policies that incentivize the adoption of EVs, such as tax credits, rebates, and subsidies, can help accelerate the transition to cleaner transportation options.\n",
            "\n",
            "2. Implementing intelligent transportation systems (ITS) and multi-modal integration: To optimize efficiency and reduce costs, the urban transportation system should rely on advanced ITS, which can help manage traffic flow, reduce congestion, and improve overall safety. For instance, using real-time traffic data, adaptive signal control, and smart routing can make public transportation more reliable and efficient. Furthermore, promoting multi-modal integration, such as combining buses, trains, bikes, and pedestrian paths, can provide residents with more convenient and flexible transportation options, reducing the reliance on private vehicles.\n",
            "\n",
            "3. Ensuring accessibility and affordability for all residents: A truly sustainable transportation system needs to prioritize equitable access and affordability for all residents, particularly for low-income individuals and those with limited mobility. This can be accomplished by:\n",
            "\n",
            "a. Offering affordable public transportation options through fare subsidies, discounted passes, or free rides for specific groups (e.g., students, seniors, and low-income residents).\n",
            "b. Designing accessible pedestrian and cycling infrastructure, such as wide sidewalks, curb ramps, and secure bike parking, to accommodate people of all ages and abilities.\n",
            "c. Providing targeted subsidies for low-income individuals to access shared mobility services, such as bike-sharing and car-sharing programs.\n",
            "d. Planning for transit-oriented developments (TODs) that prioritize housing and commercial spaces near public transportation hubs, reducing the need for long commutes and making transportation more accessible for all.\u001b[0m\n",
            "\u001b[38;5;200m\u001b[1;3m1. Incorporating clean energy sources and promoting electric vehicles (EVs): Clean energy sources, such as electricity or hydrogen, produce fewer greenhouse gas emissions and air pollutants compared to traditional fossil fuels. By investing in renewable energy sources like wind and solar power, cities can reduce their carbon footprint and provide cleaner charging options for EVs and hydrogen fueling stations. Policies that incentivize the adoption of EVs, such as tax credits, rebates, and subsidies, can help lower the upfront costs for consumers and increase the number of EVs on the road.\n",
            "\n",
            "2. Implementing intelligent transportation systems (ITS) and multi-modal integration: Intelligent transportation systems utilize advanced technologies to improve traffic management, reduce congestion, and enhance safety. Real-time traffic data, adaptive signal control, and smart routing can make public transportation more reliable and efficient, reducing wait times and improving overall user experience. Multi-modal integration combines different transportation modes (buses, trains, bikes, and pedestrian paths) to provide residents with more convenient and flexible options. This can help reduce the reliance on private vehicles, lower transportation costs, and decrease traffic congestion.\n",
            "\n",
            "3. Ensuring accessibility and affordability for all residents: A sustainable transportation system should prioritize equitable access and affordability for all residents. This can be achieved through several strategies:\n",
            "\n",
            "a. Offering affordable public transportation options through fare subsidies, discounted passes, or free rides for specific groups (e.g., students, seniors, and low-income residents) can help ensure that everyone has access to necessary transportation services.\n",
            "b. Designing accessible pedestrian and cycling infrastructure, such as wide sidewalks, curb ramps, and secure bike parking, can accommodate people of all ages and abilities, promoting active transportation and reducing the need for private vehicles.\n",
            "c. Providing targeted subsidies for low-income individuals to access shared mobility services, such as bike-sharing and car-sharing programs, can help bridge the gap between public transportation and personal vehicle ownership.\n",
            "d. Planning for transit-oriented developments (TODs) that prioritize housing and commercial spaces near public transportation hubs can reduce the need for long commutes and make transportation more accessible for all. TODs can also foster walkable, mixed-use communities, promoting a high quality of life for residents.\u001b[0m\n",
            "\n",
            "\u001b[1m> Finished chain.\u001b[0m\n",
            "1. Incorporating clean energy sources and promoting electric vehicles (EVs): Clean energy sources, such as electricity or hydrogen, produce fewer greenhouse gas emissions and air pollutants compared to traditional fossil fuels. By investing in renewable energy sources like wind and solar power, cities can reduce their carbon footprint and provide cleaner charging options for EVs and hydrogen fueling stations. Policies that incentivize the adoption of EVs, such as tax credits, rebates, and subsidies, can help lower the upfront costs for consumers and increase the number of EVs on the road.\n",
            "\n",
            "2. Implementing intelligent transportation systems (ITS) and multi-modal integration: Intelligent transportation systems utilize advanced technologies to improve traffic management, reduce congestion, and enhance safety. Real-time traffic data, adaptive signal control, and smart routing can make public transportation more reliable and efficient, reducing wait times and improving overall user experience. Multi-modal integration combines different transportation modes (buses, trains, bikes, and pedestrian paths) to provide residents with more convenient and flexible options. This can help reduce the reliance on private vehicles, lower transportation costs, and decrease traffic congestion.\n",
            "\n",
            "3. Ensuring accessibility and affordability for all residents: A sustainable transportation system should prioritize equitable access and affordability for all residents. This can be achieved through several strategies:\n",
            "\n",
            "a. Offering affordable public transportation options through fare subsidies, discounted passes, or free rides for specific groups (e.g., students, seniors, and low-income residents) can help ensure that everyone has access to necessary transportation services.\n",
            "b. Designing accessible pedestrian and cycling infrastructure, such as wide sidewalks, curb ramps, and secure bike parking, can accommodate people of all ages and abilities, promoting active transportation and reducing the need for private vehicles.\n",
            "c. Providing targeted subsidies for low-income individuals to access shared mobility services, such as bike-sharing and car-sharing programs, can help bridge the gap between public transportation and personal vehicle ownership.\n",
            "d. Planning for transit-oriented developments (TODs) that prioritize housing and commercial spaces near public transportation hubs can reduce the need for long commutes and make transportation more accessible for all. TODs can also foster walkable, mixed-use communities, promoting a high quality of life for residents.\n"
          ]
        }
      ]
    },
    {
      "cell_type": "code",
      "source": [],
      "metadata": {
        "id": "fpjOvXS6C0M0"
      },
      "execution_count": null,
      "outputs": []
    }
  ]
}